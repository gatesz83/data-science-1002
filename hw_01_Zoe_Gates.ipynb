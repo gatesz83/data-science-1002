{
  "cells": [
    {
      "cell_type": "markdown",
      "metadata": {
        "id": "0AXu-uCPODiT"
      },
      "source": [
        "## **Homework: Google Colab & Online Resource Scavenger Hunt**\n",
        "### *Application of using Google Colab and finding online resources*\n",
        "   \n",
        "   \n",
        "### DS 1002:Programming for Data Science\n",
        "### University of Virginia\n",
        "### Last Reviewed: Aug 24, 2023\n",
        "---"
      ]
    },
    {
      "cell_type": "markdown",
      "metadata": {
        "id": "hnHQtNoDODiX"
      },
      "source": [
        "### Objectives:\n",
        "- Procatice with Google Colab\n",
        "- Practice searching for coding help on the internet\n",
        "- Practice uploading a Colab notebook to Gradescope\n",
        "\n",
        "### Executive Summary\n",
        "\n",
        "- We will start this homework in class in pairs. What you don't complete in class will be completed on your own.\n",
        "- Everyone will submit their own file.\n",
        "- This homework is ungraded. You will be award points for completion.\n",
        "- Follow the prompts below. Respond in a subsquent code chunk (code or markdown, whichever is applicable)\n",
        "\n",
        "---  \n",
        "\n",
        "**TOTAL POINTS: 10**  \n",
        "RUBRIC  \n",
        "\n",
        "|     | PTS |\n",
        "------ | ------\n",
        "| Completed | 10|\n",
        "| Partially Completed | 5 |\n",
        "| Not Completed | 0 |\n",
        "\n",
        "---\n"
      ]
    },
    {
      "cell_type": "markdown",
      "metadata": {
        "id": "_7foEM35ODiZ"
      },
      "source": [
        "### Q1 (1 point): Create a **code chunk** below this prompt. In the **code chunk** enter:\n",
        "  \n",
        "```\n",
        "x = 2 + 2\n",
        "print(x)\n",
        "\n",
        "```"
      ]
    },
    {
      "cell_type": "code",
      "source": [
        "x=2+2\n",
        "print(x)"
      ],
      "metadata": {
        "id": "-kadwXD4OIa0"
      },
      "execution_count": null,
      "outputs": []
    },
    {
      "cell_type": "markdown",
      "metadata": {
        "id": "knoTvvIxODiZ"
      },
      "source": [
        "### Q2 (1 point): Copy the `code` above and paste it into a **markdown chunk**."
      ]
    },
    {
      "cell_type": "markdown",
      "source": [
        "x=2+2\n",
        "print(x)"
      ],
      "metadata": {
        "id": "zz2x75UqENwP"
      }
    },
    {
      "cell_type": "markdown",
      "metadata": {
        "id": "TE8KurvVODia"
      },
      "source": [
        "### Q3 (2 points): List one difference between a code chunk and markdown chunk. Give an example of when you would use each."
      ]
    },
    {
      "cell_type": "markdown",
      "source": [
        "A code chunk allows the user to run andstore code (aka python) and get outputs. Markdown chunks are a place to put text and labels within the document. Markdown also accepts code, but is mainly used for contextualizing."
      ],
      "metadata": {
        "id": "zhRM-0bFEWWI"
      }
    },
    {
      "cell_type": "markdown",
      "metadata": {
        "id": "mEszJTh7ODia"
      },
      "source": [
        "### Q4 (1 point): Access the O'Reilly textbook 'xxx' that we will use as a resource for class [The first one in the Syllabus]. When was the last update for this e-book?"
      ]
    },
    {
      "cell_type": "markdown",
      "source": [
        "October 2017"
      ],
      "metadata": {
        "id": "FUWLJEOPG7dL"
      }
    },
    {
      "cell_type": "markdown",
      "metadata": {
        "id": "rDQovvb2ODib"
      },
      "source": [
        "### Q5 (1 point): Google how to format a weblink in markdown. Using the format, link the source you found."
      ]
    },
    {
      "cell_type": "markdown",
      "source": [
        "[Links in Markdown](https://www.codecademy.com/resources/docs/markdown/links)"
      ],
      "metadata": {
        "id": "xbpV5mBt8dw_"
      }
    },
    {
      "cell_type": "markdown",
      "metadata": {
        "id": "_FMrLiNMODic"
      },
      "source": [
        "### Q6 (1 point): Find the python documentation online. Link the site using the appropiate format found in Q5.   \n",
        "### Now find a python cheatsheet and add the formatted link below."
      ]
    },
    {
      "cell_type": "markdown",
      "source": [
        "[Python Documentation](https://docs.python.org/3/)\n",
        "[Python Cheatsheet](https://perso.limsi.fr/pointal/_media/python:cours:mementopython3-english.pdf)\n"
      ],
      "metadata": {
        "id": "42-c2-qj-zQO"
      }
    },
    {
      "cell_type": "markdown",
      "metadata": {
        "id": "fDflAuvfODic"
      },
      "source": [
        "### Q7 (1 point): [Stack Overflow](https://stackoverflow.com/) is the one of the most popular webistes to find help for coding questions.   \n",
        "### Look up how Stackoverflow recommends formatting a question.   \n",
        "### List 2 recommendations below."
      ]
    },
    {
      "cell_type": "markdown",
      "source": [
        "1. Using professional language, Stack Overflow recommmends imagining that the question is being posed to a business colleague. It should be concise yet include all relevant information on the obstacles the poser is experiencing.\n",
        "2. Stack Overflow warns against using tags. The system automatically takes the most important elements of the question and creates tags."
      ],
      "metadata": {
        "id": "vOZhhAxFMNbO"
      }
    },
    {
      "cell_type": "markdown",
      "metadata": {
        "id": "-_5p3yjkODid"
      },
      "source": [
        "### Q8 (1 point): Using [Google](https://google.com) search Stack Overflow for a list a python data types.   \n",
        "### *(Note: this is really something that should be found in the documentation not Stack Overflow).*   \n",
        "### Link the answer you found below."
      ]
    },
    {
      "cell_type": "markdown",
      "source": [
        "[Stack Overflow Data Types](https://stackoverflow.com/questions/41090260/built-in-data-types-of-python)"
      ],
      "metadata": {
        "id": "U4SKOYfxRdK1"
      }
    },
    {
      "cell_type": "markdown",
      "metadata": {
        "id": "RV_6BRpmODie"
      },
      "source": [
        "### Q9 (1 point): Submit your homework using file type `.ipynb` on Canvas. Format the file name per template."
      ]
    }
  ],
  "metadata": {
    "kernelspec": {
      "display_name": "Python 3 (ipykernel)",
      "language": "python",
      "name": "python3"
    },
    "language_info": {
      "codemirror_mode": {
        "name": "ipython",
        "version": 3
      },
      "file_extension": ".py",
      "mimetype": "text/x-python",
      "name": "python",
      "nbconvert_exporter": "python",
      "pygments_lexer": "ipython3",
      "version": "3.9.16"
    },
    "vscode": {
      "interpreter": {
        "hash": "b0fa6594d8f4cbf19f97940f81e996739fb7646882a419484c72d19e05852a7e"
      }
    },
    "colab": {
      "provenance": []
    }
  },
  "nbformat": 4,
  "nbformat_minor": 0
}